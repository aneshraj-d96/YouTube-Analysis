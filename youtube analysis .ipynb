{
 "cells": [
  {
   "cell_type": "code",
   "execution_count": 2,
   "id": "5041ba02-3c31-404a-90f7-734017116c81",
   "metadata": {},
   "outputs": [
    {
     "name": "stdout",
     "output_type": "stream",
     "text": [
      "columns: Index(['index', 'video_id', 'trending_date', 'title', 'channel_title',\n",
      "       'category_id', 'publish_date', 'time_frame', 'published_day_of_week',\n",
      "       'publish_country', 'tags', 'views', 'likes', 'dislikes',\n",
      "       'comment_count', 'comments_disabled', 'ratings_disabled',\n",
      "       'video_error_or_removed'],\n",
      "      dtype='object')\n",
      "   index     video_id trending_date  \\\n",
      "0      0  2kyS6SvSYSE      17.14.11   \n",
      "1      1  1ZAPwfrtAFY      17.14.11   \n",
      "2      2  5qpjK5DgCt4      17.14.11   \n",
      "3      3  puqaWrEC7tY      17.14.11   \n",
      "4      4  d380meD0W0M      17.14.11   \n",
      "\n",
      "                                               title          channel_title  \\\n",
      "0                 WE WANT TO TALK ABOUT OUR MARRIAGE           CaseyNeistat   \n",
      "1  The Trump Presidency: Last Week Tonight with J...        LastWeekTonight   \n",
      "2  Racist Superman | Rudy Mancuso, King Bach & Le...           Rudy Mancuso   \n",
      "3                   Nickelback Lyrics: Real or Fake?  Good Mythical Morning   \n",
      "4                           I Dare You: GOING BALD!?               nigahiga   \n",
      "\n",
      "   category_id publish_date      time_frame published_day_of_week  \\\n",
      "0           22   13/11/2017  17:00 to 17:59                Monday   \n",
      "1           24   13/11/2017    7:00 to 7:59                Monday   \n",
      "2           23   12/11/2017  19:00 to 19:59                Sunday   \n",
      "3           24   13/11/2017  11:00 to 11:59                Monday   \n",
      "4           24   12/11/2017  18:00 to 18:59                Sunday   \n",
      "\n",
      "  publish_country                                               tags    views  \\\n",
      "0              US                                    SHANtell martin   748374   \n",
      "1              US  last week tonight trump presidency|\"last week ...  2418783   \n",
      "2              US  racist superman|\"rudy\"\"|\"\"mancuso\"\"|\"\"king\"\"|\"...  3191434   \n",
      "3              US  rhett and link|\"gmm\"\"|\"\"good mythical morning\"...   343168   \n",
      "4              US  ryan|\"higa\"\"|\"\"higatv\"\"|\"\"nigahiga\"\"|\"\"i dare ...  2095731   \n",
      "\n",
      "    likes  dislikes  comment_count  comments_disabled  ratings_disabled  \\\n",
      "0   57527      2966          15954              False             False   \n",
      "1   97185      6146          12703              False             False   \n",
      "2  146033      5339           8181              False             False   \n",
      "3   10172       666           2146              False             False   \n",
      "4  132235      1989          17518              False             False   \n",
      "\n",
      "   video_error_or_removed  \n",
      "0                   False  \n",
      "1                   False  \n",
      "2                   False  \n",
      "3                   False  \n",
      "4                   False  \n",
      "<class 'pandas.core.frame.DataFrame'>\n",
      "RangeIndex: 161470 entries, 0 to 161469\n",
      "Data columns (total 18 columns):\n",
      " #   Column                  Non-Null Count   Dtype \n",
      "---  ------                  --------------   ----- \n",
      " 0   index                   161470 non-null  int64 \n",
      " 1   video_id                161470 non-null  object\n",
      " 2   trending_date           161470 non-null  object\n",
      " 3   title                   161470 non-null  object\n",
      " 4   channel_title           161470 non-null  object\n",
      " 5   category_id             161470 non-null  int64 \n",
      " 6   publish_date            161470 non-null  object\n",
      " 7   time_frame              161470 non-null  object\n",
      " 8   published_day_of_week   161470 non-null  object\n",
      " 9   publish_country         161470 non-null  object\n",
      " 10  tags                    161470 non-null  object\n",
      " 11  views                   161470 non-null  int64 \n",
      " 12  likes                   161470 non-null  int64 \n",
      " 13  dislikes                161470 non-null  int64 \n",
      " 14  comment_count           161470 non-null  int64 \n",
      " 15  comments_disabled       161470 non-null  bool  \n",
      " 16  ratings_disabled        161470 non-null  bool  \n",
      " 17  video_error_or_removed  161470 non-null  bool  \n",
      "dtypes: bool(3), int64(6), object(9)\n",
      "memory usage: 18.9+ MB\n",
      "None\n"
     ]
    }
   ],
   "source": [
    "import pandas as pd\n",
    "# load the dataset\n",
    "df= pd.read_csv(\"youtube.csv\")\n",
    "print(\"columns:\",df.columns)\n",
    "print(df.head())\n",
    "print(df.info())  "
   ]
  },
  {
   "cell_type": "code",
   "execution_count": 20,
   "id": "25f5b987-4776-4095-a230-2d422c5acdb8",
   "metadata": {},
   "outputs": [
    {
     "name": "stdout",
     "output_type": "stream",
     "text": [
      "total dulpicates 0\n"
     ]
    }
   ],
   "source": [
    "duplicates = df.duplicated()\n",
    "print (\"total dulpicates\",duplicates.sum())"
   ]
  },
  {
   "cell_type": "code",
   "execution_count": 26,
   "id": "25e06109-dc3b-4b5f-a87a-2c5e0b28bdd1",
   "metadata": {},
   "outputs": [
    {
     "name": "stdout",
     "output_type": "stream",
     "text": [
      "Empty DataFrame\n",
      "Columns: [index, video_id, trending_date, title, channel_title, category_id, publish_date, time_frame, published_day_of_week, publish_country, tags, views, likes, dislikes, comment_count, comments_disabled, ratings_disabled, video_error_or_removed]\n",
      "Index: []\n"
     ]
    }
   ],
   "source": [
    "print(df[df.duplicated()])"
   ]
  },
  {
   "cell_type": "code",
   "execution_count": 32,
   "id": "cd236eb9-eda2-4c02-b15c-c2fcc929e9e5",
   "metadata": {},
   "outputs": [
    {
     "name": "stdout",
     "output_type": "stream",
     "text": [
      "after drop duplicates sum: 0\n"
     ]
    }
   ],
   "source": [
    "df.drop_duplicates(inplace=True)\n",
    "print(\"after drop duplicates sum:\",df.duplicated().sum())"
   ]
  },
  {
   "cell_type": "code",
   "execution_count": 34,
   "id": "cc1b21a0-a32e-4798-89df-38e9d2cfd0c1",
   "metadata": {},
   "outputs": [
    {
     "name": "stdout",
     "output_type": "stream",
     "text": [
      "index                     0\n",
      "video_id                  0\n",
      "trending_date             0\n",
      "title                     0\n",
      "channel_title             0\n",
      "category_id               0\n",
      "publish_date              0\n",
      "time_frame                0\n",
      "published_day_of_week     0\n",
      "publish_country           0\n",
      "tags                      0\n",
      "views                     0\n",
      "likes                     0\n",
      "dislikes                  0\n",
      "comment_count             0\n",
      "comments_disabled         0\n",
      "ratings_disabled          0\n",
      "video_error_or_removed    0\n",
      "dtype: int64\n"
     ]
    }
   ],
   "source": [
    "print(df.isnull().sum())"
   ]
  },
  {
   "cell_type": "code",
   "execution_count": 40,
   "id": "16034640-c434-4220-9683-5691cdd877b5",
   "metadata": {},
   "outputs": [
    {
     "name": "stdout",
     "output_type": "stream",
     "text": [
      "after fillna: index                     0\n",
      "video_id                  0\n",
      "trending_date             0\n",
      "title                     0\n",
      "channel_title             0\n",
      "category_id               0\n",
      "publish_date              0\n",
      "time_frame                0\n",
      "published_day_of_week     0\n",
      "publish_country           0\n",
      "tags                      0\n",
      "views                     0\n",
      "likes                     0\n",
      "dislikes                  0\n",
      "comment_count             0\n",
      "comments_disabled         0\n",
      "ratings_disabled          0\n",
      "video_error_or_removed    0\n",
      "dtype: int64\n"
     ]
    }
   ],
   "source": [
    "df.fillna(0,inplace=True)\n",
    "print('after fillna:',df.isnull().sum())"
   ]
  },
  {
   "cell_type": "code",
   "execution_count": 42,
   "id": "eb625f00-0b16-4536-a0f3-966e1dbb66da",
   "metadata": {},
   "outputs": [
    {
     "name": "stdout",
     "output_type": "stream",
     "text": [
      "<class 'pandas.core.frame.DataFrame'>\n",
      "RangeIndex: 161470 entries, 0 to 161469\n",
      "Data columns (total 18 columns):\n",
      " #   Column                  Non-Null Count   Dtype \n",
      "---  ------                  --------------   ----- \n",
      " 0   index                   161470 non-null  int64 \n",
      " 1   video_id                161470 non-null  object\n",
      " 2   trending_date           161470 non-null  object\n",
      " 3   title                   161470 non-null  object\n",
      " 4   channel_title           161470 non-null  object\n",
      " 5   category_id             161470 non-null  int64 \n",
      " 6   publish_date            161470 non-null  object\n",
      " 7   time_frame              161470 non-null  object\n",
      " 8   published_day_of_week   161470 non-null  object\n",
      " 9   publish_country         161470 non-null  object\n",
      " 10  tags                    161470 non-null  object\n",
      " 11  views                   161470 non-null  int64 \n",
      " 12  likes                   161470 non-null  int64 \n",
      " 13  dislikes                161470 non-null  int64 \n",
      " 14  comment_count           161470 non-null  int64 \n",
      " 15  comments_disabled       161470 non-null  bool  \n",
      " 16  ratings_disabled        161470 non-null  bool  \n",
      " 17  video_error_or_removed  161470 non-null  bool  \n",
      "dtypes: bool(3), int64(6), object(9)\n",
      "memory usage: 18.9+ MB\n"
     ]
    }
   ],
   "source": [
    "df.info()"
   ]
  },
  {
   "cell_type": "code",
   "execution_count": 56,
   "id": "9a805ec7-8ae7-4a58-9794-b8b9c4dce599",
   "metadata": {},
   "outputs": [
    {
     "name": "stdout",
     "output_type": "stream",
     "text": [
      "<class 'pandas.core.frame.DataFrame'>\n",
      "RangeIndex: 161470 entries, 0 to 161469\n",
      "Data columns (total 18 columns):\n",
      " #   Column                  Non-Null Count   Dtype         \n",
      "---  ------                  --------------   -----         \n",
      " 0   index                   161470 non-null  int64         \n",
      " 1   video_id                161470 non-null  object        \n",
      " 2   trending_date           161470 non-null  datetime64[ns]\n",
      " 3   title                   161470 non-null  object        \n",
      " 4   channel_title           161470 non-null  object        \n",
      " 5   category_id             161470 non-null  int64         \n",
      " 6   publish_date            161470 non-null  object        \n",
      " 7   time_frame              161470 non-null  object        \n",
      " 8   published_day_of_week   161470 non-null  object        \n",
      " 9   publish_country         161470 non-null  object        \n",
      " 10  tags                    161470 non-null  object        \n",
      " 11  views                   161470 non-null  int64         \n",
      " 12  likes                   161470 non-null  int64         \n",
      " 13  dislikes                161470 non-null  int64         \n",
      " 14  comment_count           161470 non-null  int64         \n",
      " 15  comments_disabled       161470 non-null  bool          \n",
      " 16  ratings_disabled        161470 non-null  bool          \n",
      " 17  video_error_or_removed  161470 non-null  bool          \n",
      "dtypes: bool(3), datetime64[ns](1), int64(6), object(8)\n",
      "memory usage: 18.9+ MB\n",
      "None\n"
     ]
    }
   ],
   "source": [
    "df[\"trending_date\"]=pd.to_datetime(df[\"trending_date\"], format=\"y%.d%.%m\")\n",
    "print(df.info())"
   ]
  },
  {
   "cell_type": "code",
   "execution_count": 64,
   "id": "886c0405-58b9-4c16-b40b-1e76bf099f93",
   "metadata": {},
   "outputs": [
    {
     "name": "stdout",
     "output_type": "stream",
     "text": [
      "<class 'pandas.core.frame.DataFrame'>\n",
      "RangeIndex: 161470 entries, 0 to 161469\n",
      "Data columns (total 18 columns):\n",
      " #   Column                  Non-Null Count   Dtype         \n",
      "---  ------                  --------------   -----         \n",
      " 0   index                   161470 non-null  int64         \n",
      " 1   video_id                161470 non-null  object        \n",
      " 2   trending_date           161470 non-null  datetime64[ns]\n",
      " 3   title                   161470 non-null  object        \n",
      " 4   channel_title           161470 non-null  object        \n",
      " 5   category_id             161470 non-null  int64         \n",
      " 6   publish_date            161470 non-null  datetime64[ns]\n",
      " 7   time_frame              161470 non-null  object        \n",
      " 8   published_day_of_week   161470 non-null  object        \n",
      " 9   publish_country         161470 non-null  object        \n",
      " 10  tags                    161470 non-null  object        \n",
      " 11  views                   161470 non-null  int64         \n",
      " 12  likes                   161470 non-null  int64         \n",
      " 13  dislikes                161470 non-null  int64         \n",
      " 14  comment_count           161470 non-null  int64         \n",
      " 15  comments_disabled       161470 non-null  bool          \n",
      " 16  ratings_disabled        161470 non-null  bool          \n",
      " 17  video_error_or_removed  161470 non-null  bool          \n",
      "dtypes: bool(3), datetime64[ns](2), int64(6), object(7)\n",
      "memory usage: 18.9+ MB\n",
      "None\n"
     ]
    }
   ],
   "source": [
    "df[\"publish_date\"] = pd.to_datetime(df[\"publish_date\"],format= \"y%.d%.%m\")\n",
    "print(df.info())"
   ]
  },
  {
   "cell_type": "code",
   "execution_count": 3,
   "id": "7e232d8e-70d5-44d8-85f8-21aa3211ec34",
   "metadata": {},
   "outputs": [
    {
     "data": {
      "text/html": [
       "<div>\n",
       "<style scoped>\n",
       "    .dataframe tbody tr th:only-of-type {\n",
       "        vertical-align: middle;\n",
       "    }\n",
       "\n",
       "    .dataframe tbody tr th {\n",
       "        vertical-align: top;\n",
       "    }\n",
       "\n",
       "    .dataframe thead th {\n",
       "        text-align: right;\n",
       "    }\n",
       "</style>\n",
       "<table border=\"1\" class=\"dataframe\">\n",
       "  <thead>\n",
       "    <tr style=\"text-align: right;\">\n",
       "      <th></th>\n",
       "      <th>index</th>\n",
       "      <th>video_id</th>\n",
       "      <th>trending_date</th>\n",
       "      <th>title</th>\n",
       "      <th>channel_title</th>\n",
       "      <th>category_id</th>\n",
       "      <th>publish_date</th>\n",
       "      <th>time_frame</th>\n",
       "      <th>published_day_of_week</th>\n",
       "      <th>publish_country</th>\n",
       "      <th>tags</th>\n",
       "      <th>views</th>\n",
       "      <th>likes</th>\n",
       "      <th>dislikes</th>\n",
       "      <th>comment_count</th>\n",
       "      <th>comments_disabled</th>\n",
       "      <th>ratings_disabled</th>\n",
       "      <th>video_error_or_removed</th>\n",
       "    </tr>\n",
       "  </thead>\n",
       "  <tbody>\n",
       "    <tr>\n",
       "      <th>0</th>\n",
       "      <td>0</td>\n",
       "      <td>2kyS6SvSYSE</td>\n",
       "      <td>17.14.11</td>\n",
       "      <td>WE WANT TO TALK ABOUT OUR MARRIAGE</td>\n",
       "      <td>CaseyNeistat</td>\n",
       "      <td>22</td>\n",
       "      <td>13/11/2017</td>\n",
       "      <td>17:00 to 17:59</td>\n",
       "      <td>Monday</td>\n",
       "      <td>US</td>\n",
       "      <td>SHANtell martin</td>\n",
       "      <td>748374</td>\n",
       "      <td>57527</td>\n",
       "      <td>2966</td>\n",
       "      <td>15954</td>\n",
       "      <td>False</td>\n",
       "      <td>False</td>\n",
       "      <td>False</td>\n",
       "    </tr>\n",
       "    <tr>\n",
       "      <th>1</th>\n",
       "      <td>1</td>\n",
       "      <td>1ZAPwfrtAFY</td>\n",
       "      <td>17.14.11</td>\n",
       "      <td>The Trump Presidency: Last Week Tonight with J...</td>\n",
       "      <td>LastWeekTonight</td>\n",
       "      <td>24</td>\n",
       "      <td>13/11/2017</td>\n",
       "      <td>7:00 to 7:59</td>\n",
       "      <td>Monday</td>\n",
       "      <td>US</td>\n",
       "      <td>last week tonight trump presidency|\"last week ...</td>\n",
       "      <td>2418783</td>\n",
       "      <td>97185</td>\n",
       "      <td>6146</td>\n",
       "      <td>12703</td>\n",
       "      <td>False</td>\n",
       "      <td>False</td>\n",
       "      <td>False</td>\n",
       "    </tr>\n",
       "    <tr>\n",
       "      <th>2</th>\n",
       "      <td>2</td>\n",
       "      <td>5qpjK5DgCt4</td>\n",
       "      <td>17.14.11</td>\n",
       "      <td>Racist Superman | Rudy Mancuso, King Bach &amp; Le...</td>\n",
       "      <td>Rudy Mancuso</td>\n",
       "      <td>23</td>\n",
       "      <td>12/11/2017</td>\n",
       "      <td>19:00 to 19:59</td>\n",
       "      <td>Sunday</td>\n",
       "      <td>US</td>\n",
       "      <td>racist superman|\"rudy\"\"|\"\"mancuso\"\"|\"\"king\"\"|\"...</td>\n",
       "      <td>3191434</td>\n",
       "      <td>146033</td>\n",
       "      <td>5339</td>\n",
       "      <td>8181</td>\n",
       "      <td>False</td>\n",
       "      <td>False</td>\n",
       "      <td>False</td>\n",
       "    </tr>\n",
       "    <tr>\n",
       "      <th>3</th>\n",
       "      <td>3</td>\n",
       "      <td>puqaWrEC7tY</td>\n",
       "      <td>17.14.11</td>\n",
       "      <td>Nickelback Lyrics: Real or Fake?</td>\n",
       "      <td>Good Mythical Morning</td>\n",
       "      <td>24</td>\n",
       "      <td>13/11/2017</td>\n",
       "      <td>11:00 to 11:59</td>\n",
       "      <td>Monday</td>\n",
       "      <td>US</td>\n",
       "      <td>rhett and link|\"gmm\"\"|\"\"good mythical morning\"...</td>\n",
       "      <td>343168</td>\n",
       "      <td>10172</td>\n",
       "      <td>666</td>\n",
       "      <td>2146</td>\n",
       "      <td>False</td>\n",
       "      <td>False</td>\n",
       "      <td>False</td>\n",
       "    </tr>\n",
       "    <tr>\n",
       "      <th>4</th>\n",
       "      <td>4</td>\n",
       "      <td>d380meD0W0M</td>\n",
       "      <td>17.14.11</td>\n",
       "      <td>I Dare You: GOING BALD!?</td>\n",
       "      <td>nigahiga</td>\n",
       "      <td>24</td>\n",
       "      <td>12/11/2017</td>\n",
       "      <td>18:00 to 18:59</td>\n",
       "      <td>Sunday</td>\n",
       "      <td>US</td>\n",
       "      <td>ryan|\"higa\"\"|\"\"higatv\"\"|\"\"nigahiga\"\"|\"\"i dare ...</td>\n",
       "      <td>2095731</td>\n",
       "      <td>132235</td>\n",
       "      <td>1989</td>\n",
       "      <td>17518</td>\n",
       "      <td>False</td>\n",
       "      <td>False</td>\n",
       "      <td>False</td>\n",
       "    </tr>\n",
       "  </tbody>\n",
       "</table>\n",
       "</div>"
      ],
      "text/plain": [
       "   index     video_id trending_date  \\\n",
       "0      0  2kyS6SvSYSE      17.14.11   \n",
       "1      1  1ZAPwfrtAFY      17.14.11   \n",
       "2      2  5qpjK5DgCt4      17.14.11   \n",
       "3      3  puqaWrEC7tY      17.14.11   \n",
       "4      4  d380meD0W0M      17.14.11   \n",
       "\n",
       "                                               title          channel_title  \\\n",
       "0                 WE WANT TO TALK ABOUT OUR MARRIAGE           CaseyNeistat   \n",
       "1  The Trump Presidency: Last Week Tonight with J...        LastWeekTonight   \n",
       "2  Racist Superman | Rudy Mancuso, King Bach & Le...           Rudy Mancuso   \n",
       "3                   Nickelback Lyrics: Real or Fake?  Good Mythical Morning   \n",
       "4                           I Dare You: GOING BALD!?               nigahiga   \n",
       "\n",
       "   category_id publish_date      time_frame published_day_of_week  \\\n",
       "0           22   13/11/2017  17:00 to 17:59                Monday   \n",
       "1           24   13/11/2017    7:00 to 7:59                Monday   \n",
       "2           23   12/11/2017  19:00 to 19:59                Sunday   \n",
       "3           24   13/11/2017  11:00 to 11:59                Monday   \n",
       "4           24   12/11/2017  18:00 to 18:59                Sunday   \n",
       "\n",
       "  publish_country                                               tags    views  \\\n",
       "0              US                                    SHANtell martin   748374   \n",
       "1              US  last week tonight trump presidency|\"last week ...  2418783   \n",
       "2              US  racist superman|\"rudy\"\"|\"\"mancuso\"\"|\"\"king\"\"|\"...  3191434   \n",
       "3              US  rhett and link|\"gmm\"\"|\"\"good mythical morning\"...   343168   \n",
       "4              US  ryan|\"higa\"\"|\"\"higatv\"\"|\"\"nigahiga\"\"|\"\"i dare ...  2095731   \n",
       "\n",
       "    likes  dislikes  comment_count  comments_disabled  ratings_disabled  \\\n",
       "0   57527      2966          15954              False             False   \n",
       "1   97185      6146          12703              False             False   \n",
       "2  146033      5339           8181              False             False   \n",
       "3   10172       666           2146              False             False   \n",
       "4  132235      1989          17518              False             False   \n",
       "\n",
       "   video_error_or_removed  \n",
       "0                   False  \n",
       "1                   False  \n",
       "2                   False  \n",
       "3                   False  \n",
       "4                   False  "
      ]
     },
     "execution_count": 3,
     "metadata": {},
     "output_type": "execute_result"
    }
   ],
   "source": [
    "df.head()"
   ]
  },
  {
   "cell_type": "code",
   "execution_count": 68,
   "id": "e4fc39d8-ad26-48af-b9fe-50de5f164f24",
   "metadata": {},
   "outputs": [
    {
     "name": "stdout",
     "output_type": "stream",
     "text": [
      "<class 'pandas.core.frame.DataFrame'>\n",
      "RangeIndex: 161470 entries, 0 to 161469\n",
      "Data columns (total 18 columns):\n",
      " #   Column                  Non-Null Count   Dtype         \n",
      "---  ------                  --------------   -----         \n",
      " 0   index                   161470 non-null  int64         \n",
      " 1   video_id                161470 non-null  object        \n",
      " 2   trending_date           161470 non-null  datetime64[ns]\n",
      " 3   title                   161470 non-null  object        \n",
      " 4   channel_title           161470 non-null  object        \n",
      " 5   category_id             161470 non-null  int64         \n",
      " 6   publish_date            161470 non-null  datetime64[ns]\n",
      " 7   time_frame              161470 non-null  object        \n",
      " 8   published_day_of_week   161470 non-null  category      \n",
      " 9   publish_country         161470 non-null  category      \n",
      " 10  tags                    161470 non-null  object        \n",
      " 11  views                   161470 non-null  int64         \n",
      " 12  likes                   161470 non-null  int64         \n",
      " 13  dislikes                161470 non-null  int64         \n",
      " 14  comment_count           161470 non-null  int64         \n",
      " 15  comments_disabled       161470 non-null  bool          \n",
      " 16  ratings_disabled        161470 non-null  bool          \n",
      " 17  video_error_or_removed  161470 non-null  bool          \n",
      "dtypes: bool(3), category(2), datetime64[ns](2), int64(6), object(5)\n",
      "memory usage: 16.8+ MB\n",
      "None\n"
     ]
    }
   ],
   "source": [
    "df[\"published_day_of_week\"] = df[\"published_day_of_week\"].astype(\"category\")\n",
    "df[\"publish_country\"] = df[\"publish_country\"].astype(\"category\")\n",
    "df[\"category_id\"] = df[\"category_id\"].astype(\"int64\")\n",
    "df[\"views\"] = df[\"views\"].astype(\"int64\")\n",
    "df[\"likes\"] = df[\"likes\"].astype(\"int64\")\n",
    "df[\"dislikes\"] = df[\"dislikes\"].astype(\"int64\")\n",
    "df[\"comment_count\"] = df[\"comment_count\"].astype(\"int64\")\n",
    "print(df.info())"
   ]
  },
  {
   "cell_type": "code",
   "execution_count": 113,
   "id": "05c00f55-4257-447d-9a7c-8124a4f4af54",
   "metadata": {},
   "outputs": [
    {
     "name": "stdout",
     "output_type": "stream",
     "text": [
      "\n",
      " top 10 channels:\n",
      " channel_title\n",
      "The Late Show with Stephen Colbert        653\n",
      "Late Night with Seth Meyers               594\n",
      "TheEllenShow                              586\n",
      "The Tonight Show Starring Jimmy Fallon    569\n",
      "Jimmy Kimmel Live                         560\n",
      "WWE                                       545\n",
      "CNN                                       495\n",
      "The Late Late Show with James Corden      494\n",
      "Netflix                                   476\n",
      "ESPN                                      475\n",
      "Name: count, dtype: int64\n"
     ]
    }
   ],
   "source": [
    "# most trending top 10 channels\n",
    "top_channels = df[\"channel_title\"].value_counts().head(10)\n",
    "print(\"\\n top 10 channels:\\n\",top_channels)"
   ]
  },
  {
   "cell_type": "code",
   "execution_count": 111,
   "id": "411954ed-6244-4873-922f-844c4ec97bb8",
   "metadata": {},
   "outputs": [
    {
     "name": "stdout",
     "output_type": "stream",
     "text": [
      "\n",
      " video counts per category-wise \n",
      " category_id\n",
      "24    42358\n",
      "10    27903\n",
      "22    15960\n",
      "23    13401\n",
      "25    11623\n",
      "17    11210\n",
      "26    10442\n",
      "1      9139\n",
      "20     5408\n",
      "28     4876\n",
      "27     3873\n",
      "15     2060\n",
      "2      1554\n",
      "19     1009\n",
      "29      335\n",
      "43      300\n",
      "30       17\n",
      "44        2\n",
      "Name: count, dtype: int64\n"
     ]
    }
   ],
   "source": [
    "# category-wise video count\n",
    "category_counts = df[\"category_id\"].value_counts()\n",
    "print(\"\\n video counts per category-wise \\n\",category_counts)"
   ]
  },
  {
   "cell_type": "code",
   "execution_count": 109,
   "id": "8682b1f9-f1ab-4b0f-8778-e2cc32dd06bf",
   "metadata": {},
   "outputs": [
    {
     "name": "stdout",
     "output_type": "stream",
     "text": [
      "\n",
      " engagement rate summary: \n",
      " count    161470.000000\n",
      "mean          0.043189\n",
      "std           0.037785\n",
      "min           0.000000\n",
      "25%           0.015553\n",
      "50%           0.032864\n",
      "75%           0.059244\n",
      "max           0.529197\n",
      "Name: engagement_rate, dtype: float64\n"
     ]
    }
   ],
   "source": [
    "# engagement rate (likes vs Views)\n",
    "df[\"engagement_rate\"] = (df[\"likes\"] + df[\"dislikes\"] + df[\"comment_count\"]) / df[\"views\"]\n",
    "print(\"\\n engagement rate summary: \\n\",df[\"engagement_rate\"].describe())"
   ]
  },
  {
   "cell_type": "code",
   "execution_count": 107,
   "id": "c5e7e662-efcc-475e-9d0c-7959f5b1d9e6",
   "metadata": {},
   "outputs": [
    {
     "name": "stdout",
     "output_type": "stream",
     "text": [
      "\n",
      " total view per video:\n",
      "           video_id        views\n",
      "28118  VYOjWnS4cMY  10425338513\n",
      "32313  _I_D_8Z4sJE   8487871859\n",
      "42161  kLpH1nSLJSs   6970018019\n",
      "37990  ffxKSjUwKdU   5872828874\n",
      "8810   9jI-z9QN6g8   5168434018\n",
      "54008  xpVfcZ0ZcFM   4895081566\n",
      "53041  wfWkmURBNv8   4433602016\n",
      "55219  zEf423kYfqk   4331863502\n",
      "14091  FlsCjmMhFmw   4070143496\n",
      "11471  Ck4xHocysLw   3186401665\n"
     ]
    }
   ],
   "source": [
    "# total views per video\n",
    "video_views = df.groupby(\"video_id\")[\"views\"].sum().reset_index()\n",
    "video_views = video_views.sort_values(by=\"views\", ascending=False)\n",
    "print(\"\\n total view per video:\\n\",video_views.head(10))"
   ]
  },
  {
   "cell_type": "code",
   "execution_count": 115,
   "id": "5695897f-615b-49dc-85b6-baf5d8ae5663",
   "metadata": {},
   "outputs": [
    {
     "name": "stdout",
     "output_type": "stream",
     "text": [
      "\n",
      " top performing Categories:\n",
      "     category_id     avg_views  video_count\n",
      "2            10  8.224924e+06        27903\n",
      "0             1  2.134199e+06         9139\n",
      "14           29  2.080094e+06          335\n",
      "9            24  1.601619e+06        42358\n",
      "13           28  1.438931e+06         4876\n",
      "4            17  1.136544e+06        11210\n",
      "8            23  1.095755e+06        13401\n",
      "15           30  1.067571e+06           17\n",
      "6            20  1.031163e+06         5408\n",
      "7            22  9.511623e+05        15960\n",
      "3            15  7.693709e+05         2060\n",
      "11           26  6.998555e+05        10442\n",
      "16           43  6.781925e+05          300\n",
      "1             2  6.297981e+05         1554\n",
      "5            19  6.242201e+05         1009\n"
     ]
    }
   ],
   "source": [
    "# top performing categories\n",
    "category_performance = df.groupby(\"category_id\").agg({\"views\":\"mean\",\"video_id\":\"count\"}).reset_index()\n",
    "category_performance.rename(columns={\"video_id\":\"video_count\",\"views\":\"avg_views\"},inplace=True)\n",
    "category_performance =category_performance.sort_values(by=\"avg_views\",ascending=False)\n",
    "print(\"\\n top performing Categories:\\n\",category_performance.head(15))"
   ]
  },
  {
   "cell_type": "code",
   "execution_count": 134,
   "id": "32cda35a-e6c6-4b22-abac-34c1938eebba",
   "metadata": {},
   "outputs": [
    {
     "name": "stdout",
     "output_type": "stream",
     "text": [
      "12361\n"
     ]
    }
   ],
   "source": [
    "# total no of unique channel \n",
    "channel_counts = df[\"channel_title\"].nunique()\n",
    "print(channel_counts)"
   ]
  },
  {
   "cell_type": "code",
   "execution_count": 138,
   "id": "4cd18846-d6cc-4982-9fee-88fe0c0c627a",
   "metadata": {},
   "outputs": [
    {
     "name": "stdout",
     "output_type": "stream",
     "text": [
      "18\n"
     ]
    }
   ],
   "source": [
    "# total no of unqiue category id\n",
    "total_categories = df[\"category_id\"].nunique()\n",
    "print(total_categories)"
   ]
  },
  {
   "cell_type": "code",
   "execution_count": 154,
   "id": "ac946fc4-eb28-457d-ae36-9ae1d11e0e62",
   "metadata": {},
   "outputs": [
    {
     "name": "stdout",
     "output_type": "stream",
     "text": [
      "\n",
      "average engagement rate by day:\n",
      "   published_day_of_week  engagement_rate\n",
      "3                Sunday         0.046794\n",
      "6             Wednesday         0.044551\n",
      "0                Friday         0.044226\n",
      "4              Thursday         0.043060\n",
      "2              Saturday         0.042638\n",
      "5               Tuesday         0.041237\n",
      "1                Monday         0.040185\n"
     ]
    }
   ],
   "source": [
    "# best days to publish\n",
    "publish_day_analysis = df.groupby (\"published_day_of_week\",observed=True)[\"engagement_rate\"].mean().reset_index()\n",
    "publish_day_analysis = publish_day_analysis.sort_values(by=\"engagement_rate\", ascending=False)\n",
    "print(\"\\naverage engagement rate by day:\\n\",publish_day_analysis)"
   ]
  },
  {
   "cell_type": "code",
   "execution_count": 4,
   "id": "fe6a5257-6597-442d-b31d-f62463be52e9",
   "metadata": {},
   "outputs": [],
   "source": [
    "df.to_csv(\"cleaned_youtube.csv\", index=False)"
   ]
  },
  {
   "cell_type": "code",
   "execution_count": 158,
   "id": "a4bf5ab9-f395-48ac-af92-c53c782922cf",
   "metadata": {},
   "outputs": [
    {
     "data": {
      "text/html": [
       "<div>\n",
       "<style scoped>\n",
       "    .dataframe tbody tr th:only-of-type {\n",
       "        vertical-align: middle;\n",
       "    }\n",
       "\n",
       "    .dataframe tbody tr th {\n",
       "        vertical-align: top;\n",
       "    }\n",
       "\n",
       "    .dataframe thead th {\n",
       "        text-align: right;\n",
       "    }\n",
       "</style>\n",
       "<table border=\"1\" class=\"dataframe\">\n",
       "  <thead>\n",
       "    <tr style=\"text-align: right;\">\n",
       "      <th></th>\n",
       "      <th>index</th>\n",
       "      <th>video_id</th>\n",
       "      <th>trending_date</th>\n",
       "      <th>title</th>\n",
       "      <th>channel_title</th>\n",
       "      <th>category_id</th>\n",
       "      <th>publish_date</th>\n",
       "      <th>time_frame</th>\n",
       "      <th>published_day_of_week</th>\n",
       "      <th>publish_country</th>\n",
       "      <th>tags</th>\n",
       "      <th>views</th>\n",
       "      <th>likes</th>\n",
       "      <th>dislikes</th>\n",
       "      <th>comment_count</th>\n",
       "      <th>comments_disabled</th>\n",
       "      <th>ratings_disabled</th>\n",
       "      <th>video_error_or_removed</th>\n",
       "      <th>engagement_rate</th>\n",
       "    </tr>\n",
       "  </thead>\n",
       "  <tbody>\n",
       "    <tr>\n",
       "      <th>0</th>\n",
       "      <td>0</td>\n",
       "      <td>2kyS6SvSYSE</td>\n",
       "      <td>2017-11-14</td>\n",
       "      <td>WE WANT TO TALK ABOUT OUR MARRIAGE</td>\n",
       "      <td>CaseyNeistat</td>\n",
       "      <td>22</td>\n",
       "      <td>2017-11-13</td>\n",
       "      <td>17:00 to 17:59</td>\n",
       "      <td>Monday</td>\n",
       "      <td>US</td>\n",
       "      <td>SHANtell martin</td>\n",
       "      <td>748374</td>\n",
       "      <td>57527</td>\n",
       "      <td>2966</td>\n",
       "      <td>15954</td>\n",
       "      <td>False</td>\n",
       "      <td>False</td>\n",
       "      <td>False</td>\n",
       "      <td>0.102151</td>\n",
       "    </tr>\n",
       "    <tr>\n",
       "      <th>1</th>\n",
       "      <td>1</td>\n",
       "      <td>1ZAPwfrtAFY</td>\n",
       "      <td>2017-11-14</td>\n",
       "      <td>The Trump Presidency: Last Week Tonight with J...</td>\n",
       "      <td>LastWeekTonight</td>\n",
       "      <td>24</td>\n",
       "      <td>2017-11-13</td>\n",
       "      <td>7:00 to 7:59</td>\n",
       "      <td>Monday</td>\n",
       "      <td>US</td>\n",
       "      <td>last week tonight trump presidency|\"last week ...</td>\n",
       "      <td>2418783</td>\n",
       "      <td>97185</td>\n",
       "      <td>6146</td>\n",
       "      <td>12703</td>\n",
       "      <td>False</td>\n",
       "      <td>False</td>\n",
       "      <td>False</td>\n",
       "      <td>0.047972</td>\n",
       "    </tr>\n",
       "    <tr>\n",
       "      <th>2</th>\n",
       "      <td>2</td>\n",
       "      <td>5qpjK5DgCt4</td>\n",
       "      <td>2017-11-14</td>\n",
       "      <td>Racist Superman | Rudy Mancuso, King Bach &amp; Le...</td>\n",
       "      <td>Rudy Mancuso</td>\n",
       "      <td>23</td>\n",
       "      <td>2017-11-12</td>\n",
       "      <td>19:00 to 19:59</td>\n",
       "      <td>Sunday</td>\n",
       "      <td>US</td>\n",
       "      <td>racist superman|\"rudy\"\"|\"\"mancuso\"\"|\"\"king\"\"|\"...</td>\n",
       "      <td>3191434</td>\n",
       "      <td>146033</td>\n",
       "      <td>5339</td>\n",
       "      <td>8181</td>\n",
       "      <td>False</td>\n",
       "      <td>False</td>\n",
       "      <td>False</td>\n",
       "      <td>0.049994</td>\n",
       "    </tr>\n",
       "    <tr>\n",
       "      <th>3</th>\n",
       "      <td>3</td>\n",
       "      <td>puqaWrEC7tY</td>\n",
       "      <td>2017-11-14</td>\n",
       "      <td>Nickelback Lyrics: Real or Fake?</td>\n",
       "      <td>Good Mythical Morning</td>\n",
       "      <td>24</td>\n",
       "      <td>2017-11-13</td>\n",
       "      <td>11:00 to 11:59</td>\n",
       "      <td>Monday</td>\n",
       "      <td>US</td>\n",
       "      <td>rhett and link|\"gmm\"\"|\"\"good mythical morning\"...</td>\n",
       "      <td>343168</td>\n",
       "      <td>10172</td>\n",
       "      <td>666</td>\n",
       "      <td>2146</td>\n",
       "      <td>False</td>\n",
       "      <td>False</td>\n",
       "      <td>False</td>\n",
       "      <td>0.037836</td>\n",
       "    </tr>\n",
       "    <tr>\n",
       "      <th>4</th>\n",
       "      <td>4</td>\n",
       "      <td>d380meD0W0M</td>\n",
       "      <td>2017-11-14</td>\n",
       "      <td>I Dare You: GOING BALD!?</td>\n",
       "      <td>nigahiga</td>\n",
       "      <td>24</td>\n",
       "      <td>2017-11-12</td>\n",
       "      <td>18:00 to 18:59</td>\n",
       "      <td>Sunday</td>\n",
       "      <td>US</td>\n",
       "      <td>ryan|\"higa\"\"|\"\"higatv\"\"|\"\"nigahiga\"\"|\"\"i dare ...</td>\n",
       "      <td>2095731</td>\n",
       "      <td>132235</td>\n",
       "      <td>1989</td>\n",
       "      <td>17518</td>\n",
       "      <td>False</td>\n",
       "      <td>False</td>\n",
       "      <td>False</td>\n",
       "      <td>0.072405</td>\n",
       "    </tr>\n",
       "  </tbody>\n",
       "</table>\n",
       "</div>"
      ],
      "text/plain": [
       "   index     video_id trending_date  \\\n",
       "0      0  2kyS6SvSYSE    2017-11-14   \n",
       "1      1  1ZAPwfrtAFY    2017-11-14   \n",
       "2      2  5qpjK5DgCt4    2017-11-14   \n",
       "3      3  puqaWrEC7tY    2017-11-14   \n",
       "4      4  d380meD0W0M    2017-11-14   \n",
       "\n",
       "                                               title          channel_title  \\\n",
       "0                 WE WANT TO TALK ABOUT OUR MARRIAGE           CaseyNeistat   \n",
       "1  The Trump Presidency: Last Week Tonight with J...        LastWeekTonight   \n",
       "2  Racist Superman | Rudy Mancuso, King Bach & Le...           Rudy Mancuso   \n",
       "3                   Nickelback Lyrics: Real or Fake?  Good Mythical Morning   \n",
       "4                           I Dare You: GOING BALD!?               nigahiga   \n",
       "\n",
       "   category_id publish_date      time_frame published_day_of_week  \\\n",
       "0           22   2017-11-13  17:00 to 17:59                Monday   \n",
       "1           24   2017-11-13    7:00 to 7:59                Monday   \n",
       "2           23   2017-11-12  19:00 to 19:59                Sunday   \n",
       "3           24   2017-11-13  11:00 to 11:59                Monday   \n",
       "4           24   2017-11-12  18:00 to 18:59                Sunday   \n",
       "\n",
       "  publish_country                                               tags    views  \\\n",
       "0              US                                    SHANtell martin   748374   \n",
       "1              US  last week tonight trump presidency|\"last week ...  2418783   \n",
       "2              US  racist superman|\"rudy\"\"|\"\"mancuso\"\"|\"\"king\"\"|\"...  3191434   \n",
       "3              US  rhett and link|\"gmm\"\"|\"\"good mythical morning\"...   343168   \n",
       "4              US  ryan|\"higa\"\"|\"\"higatv\"\"|\"\"nigahiga\"\"|\"\"i dare ...  2095731   \n",
       "\n",
       "    likes  dislikes  comment_count  comments_disabled  ratings_disabled  \\\n",
       "0   57527      2966          15954              False             False   \n",
       "1   97185      6146          12703              False             False   \n",
       "2  146033      5339           8181              False             False   \n",
       "3   10172       666           2146              False             False   \n",
       "4  132235      1989          17518              False             False   \n",
       "\n",
       "   video_error_or_removed  engagement_rate  \n",
       "0                   False         0.102151  \n",
       "1                   False         0.047972  \n",
       "2                   False         0.049994  \n",
       "3                   False         0.037836  \n",
       "4                   False         0.072405  "
      ]
     },
     "execution_count": 158,
     "metadata": {},
     "output_type": "execute_result"
    }
   ],
   "source": [
    "df = pd.read_csv(\"cleaned_youtube.csv\")\n",
    "df.head()"
   ]
  },
  {
   "cell_type": "code",
   "execution_count": 1,
   "id": "1ad06a2d-a189-4114-a2cd-36a96a4f3de1",
   "metadata": {},
   "outputs": [
    {
     "data": {
      "text/plain": [
       "['trending_features.pkl']"
      ]
     },
     "execution_count": 1,
     "metadata": {},
     "output_type": "execute_result"
    }
   ],
   "source": [
    "# train_trending_model.py\n",
    "\n",
    "import pandas as pd\n",
    "from sklearn.model_selection import train_test_split\n",
    "from sklearn.ensemble import RandomForestClassifier\n",
    "from sklearn.preprocessing import LabelEncoder\n",
    "import joblib\n",
    "\n",
    "# Load dataset\n",
    "df = pd.read_csv('C:\\\\Users\\\\Dhusyath\\\\Downloads\\\\PROJECTS_DA\\\\PROJECTS_DA\\\\you tube analysis\\\\youtube.csv')\n",
    "\n",
    "# Create target variable: assume all rows are trending\n",
    "df['is_trending'] = 1  # If you have non-trending data, label those as 0\n",
    "\n",
    "# Keep relevant columns\n",
    "df = df[['channel_title', 'category_id', 'publish_country', 'is_trending']]\n",
    "\n",
    "# Encode categorical features\n",
    "channel_encoder = LabelEncoder()\n",
    "country_encoder = LabelEncoder()\n",
    "\n",
    "df['channel_encoded'] = channel_encoder.fit_transform(df['channel_title'])\n",
    "df['country_encoded'] = country_encoder.fit_transform(df['publish_country'])\n",
    "\n",
    "# Features and target\n",
    "X = df[['channel_encoded', 'category_id', 'country_encoded']]\n",
    "y = df['is_trending']\n",
    "\n",
    "# Train-test split\n",
    "X_train, X_test, y_train, y_test = train_test_split(X, y, test_size=0.2, random_state=42)\n",
    "\n",
    "# Train model\n",
    "model = RandomForestClassifier(n_estimators=100, random_state=42)\n",
    "model.fit(X_train, y_train)\n",
    "\n",
    "# Save model and encoders\n",
    "joblib.dump(model, \"trending_model.pkl\")\n",
    "joblib.dump(channel_encoder, \"channel_encoder.pkl\")\n",
    "joblib.dump(country_encoder, \"country_encoder.pkl\")\n",
    "joblib.dump(X.columns.tolist(), \"trending_features.pkl\")\n"
   ]
  },
  {
   "cell_type": "code",
   "execution_count": null,
   "id": "278b0b02",
   "metadata": {},
   "outputs": [],
   "source": []
  }
 ],
 "metadata": {
  "kernelspec": {
   "display_name": "base",
   "language": "python",
   "name": "python3"
  },
  "language_info": {
   "codemirror_mode": {
    "name": "ipython",
    "version": 3
   },
   "file_extension": ".py",
   "mimetype": "text/x-python",
   "name": "python",
   "nbconvert_exporter": "python",
   "pygments_lexer": "ipython3",
   "version": "3.13.5"
  }
 },
 "nbformat": 4,
 "nbformat_minor": 5
}
